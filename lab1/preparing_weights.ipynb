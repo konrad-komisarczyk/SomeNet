{
 "cells": [
  {
   "cell_type": "code",
   "execution_count": 2,
   "metadata": {},
   "outputs": [],
   "source": [
    "import pandas as pd\n",
    "import numpy as np\n",
    "\n",
    "from tensorflow import keras\n",
    "from keras.models import Sequential\n",
    "from keras import Input\n",
    "from keras.layers import Dense\n",
    "from sklearn.metrics import mean_squared_error\n",
    "\n",
    "import matplotlib.pyplot as plt"
   ]
  },
  {
   "cell_type": "markdown",
   "metadata": {},
   "source": [
    "## Preparing data"
   ]
  },
  {
   "cell_type": "code",
   "execution_count": 2,
   "metadata": {},
   "outputs": [
    {
     "data": {
      "text/html": [
       "<div>\n",
       "<style scoped>\n",
       "    .dataframe tbody tr th:only-of-type {\n",
       "        vertical-align: middle;\n",
       "    }\n",
       "\n",
       "    .dataframe tbody tr th {\n",
       "        vertical-align: top;\n",
       "    }\n",
       "\n",
       "    .dataframe thead th {\n",
       "        text-align: right;\n",
       "    }\n",
       "</style>\n",
       "<table border=\"1\" class=\"dataframe\">\n",
       "  <thead>\n",
       "    <tr style=\"text-align: right;\">\n",
       "      <th></th>\n",
       "      <th>x</th>\n",
       "      <th>y</th>\n",
       "    </tr>\n",
       "  </thead>\n",
       "  <tbody>\n",
       "    <tr>\n",
       "      <th>1</th>\n",
       "      <td>-0.171543</td>\n",
       "      <td>-127.351580</td>\n",
       "    </tr>\n",
       "    <tr>\n",
       "      <th>2</th>\n",
       "      <td>0.025201</td>\n",
       "      <td>-129.942844</td>\n",
       "    </tr>\n",
       "    <tr>\n",
       "      <th>3</th>\n",
       "      <td>-1.368991</td>\n",
       "      <td>38.672367</td>\n",
       "    </tr>\n",
       "    <tr>\n",
       "      <th>4</th>\n",
       "      <td>1.907390</td>\n",
       "      <td>197.432191</td>\n",
       "    </tr>\n",
       "    <tr>\n",
       "      <th>5</th>\n",
       "      <td>0.011129</td>\n",
       "      <td>-129.988852</td>\n",
       "    </tr>\n",
       "  </tbody>\n",
       "</table>\n",
       "</div>"
      ],
      "text/plain": [
       "          x           y\n",
       "1 -0.171543 -127.351580\n",
       "2  0.025201 -129.942844\n",
       "3 -1.368991   38.672367\n",
       "4  1.907390  197.432191\n",
       "5  0.011129 -129.988852"
      ]
     },
     "execution_count": 2,
     "metadata": {},
     "output_type": "execute_result"
    }
   ],
   "source": [
    "square_train = pd.read_csv('../data/regression/square-simple-training.csv', index_col=0)\n",
    "steps_train = pd.read_csv('../data/regression/steps-large-training.csv', index_col=0)\n",
    "square_test = pd.read_csv('../data/regression/square-simple-test.csv', index_col=0)\n",
    "steps_test = pd.read_csv('../data/regression/steps-large-test.csv', index_col=0)\n",
    "square_train.head()"
   ]
  },
  {
   "cell_type": "code",
   "execution_count": 50,
   "metadata": {},
   "outputs": [
    {
     "data": {
      "text/plain": [
       "(10000, 1)"
      ]
     },
     "execution_count": 50,
     "metadata": {},
     "output_type": "execute_result"
    }
   ],
   "source": [
    "np.shape(steps_train[['x']].values)"
   ]
  },
  {
   "cell_type": "code",
   "execution_count": 140,
   "metadata": {},
   "outputs": [],
   "source": [
    "square_train_X = square_train[['x']] + 3\n",
    "square_train_Y = square_train[['y']].values\n",
    "square_test_X = square_test[['x']] + 3\n",
    "square_test_Y = square_test[['y']].values\n",
    "\n",
    "steps_train_X = steps_train[['x']]\n",
    "steps_train_Y = steps_train[['y']].values\n",
    "steps_test_X = steps_test[['x']]\n",
    "steps_test_Y = steps_test[['y']].values"
   ]
  },
  {
   "cell_type": "markdown",
   "metadata": {},
   "source": [
    "## Building steps models"
   ]
  },
  {
   "cell_type": "markdown",
   "metadata": {},
   "source": [
    "### 1. one hidden layer: 5 neurons"
   ]
  },
  {
   "cell_type": "code",
   "execution_count": 183,
   "metadata": {},
   "outputs": [
    {
     "data": {
      "text/plain": [
       "<tensorflow.python.keras.callbacks.History at 0x7f8538e47eb0>"
      ]
     },
     "execution_count": 183,
     "metadata": {},
     "output_type": "execute_result"
    }
   ],
   "source": [
    "model_square_1 = Sequential(name=\"square_5\")\n",
    "model_square_1.add(Input(shape=(1,), name='Input-Layer'))\n",
    "model_square_1.add(Dense(5, activation='sigmoid', name='Hidden-Layer'))\n",
    "model_square_1.add(Dense(1, activation='linear', name='Output-Layer'))\n",
    "model_square_1.compile(loss='mse', optimizer='adam', metrics=['mse'])\n",
    "\n",
    "model_square_1.fit(square_test_X, square_test_Y,\n",
    "                  epochs=1600,\n",
    "                  #batch_size=250, \n",
    "                  verbose=0)"
   ]
  },
  {
   "cell_type": "code",
   "execution_count": 179,
   "metadata": {},
   "outputs": [
    {
     "data": {
      "text/plain": [
       "8053.844641100957"
      ]
     },
     "execution_count": 179,
     "metadata": {},
     "output_type": "execute_result"
    }
   ],
   "source": [
    "preds_1 = model_square_1.predict(square_test_X)\n",
    "mean_squared_error(square_test_Y, preds_1)"
   ]
  },
  {
   "cell_type": "code",
   "execution_count": 184,
   "metadata": {},
   "outputs": [
    {
     "data": {
      "text/plain": [
       "[<matplotlib.lines.Line2D at 0x7f85384d7b20>]"
      ]
     },
     "execution_count": 184,
     "metadata": {},
     "output_type": "execute_result"
    },
    {
     "data": {
      "image/png": "[encoded data removed]",
      "text/plain": [
       "<Figure size 432x288 with 1 Axes>"
      ]
     },
     "metadata": {
      "needs_background": "light"
     },
     "output_type": "display_data"
    }
   ],
   "source": [
    "plt.plot(square_test_X, preds_1, 'o', color='black')"
   ]
  },
  {
   "cell_type": "code",
   "execution_count": 159,
   "metadata": {},
   "outputs": [
    {
     "data": {
      "text/plain": [
       "[<matplotlib.lines.Line2D at 0x7f8541ac61f0>]"
      ]
     },
     "execution_count": 159,
     "metadata": {},
     "output_type": "execute_result"
    },
    {
     "data": {
      "image/png": "[encoded data removed]",
      "text/plain": [
       "<Figure size 432x288 with 1 Axes>"
      ]
     },
     "metadata": {
      "needs_background": "light"
     },
     "output_type": "display_data"
    }
   ],
   "source": [
    "plt.plot(square_test_X, square_test_Y, 'o', color='black')"
   ]
  },
  {
   "cell_type": "markdown",
   "metadata": {},
   "source": [
    "### 2. one hidden layer: 10 neurons"
   ]
  },
  {
   "cell_type": "code",
   "execution_count": 160,
   "metadata": {},
   "outputs": [
    {
     "data": {
      "text/plain": [
       "<tensorflow.python.keras.callbacks.History at 0x7f85411e95b0>"
      ]
     },
     "execution_count": 160,
     "metadata": {},
     "output_type": "execute_result"
    }
   ],
   "source": [
    "model_square_2 = Sequential(name=\"square_10\")\n",
    "model_square_2.add(Input(shape=(1,), name='Input-Layer'))\n",
    "model_square_2.add(Dense(10, activation='sigmoid', name='Hidden-Layer'))\n",
    "model_square_2.add(Dense(1, activation='linear', name='Output-Layer'))\n",
    "model_square_2.compile(loss='mse', optimizer='adam', metrics=['MeanSquaredError'])\n",
    "\n",
    "model_square_2.fit(square_test_X, square_test_Y,\n",
    "                   #validation_split=0.2,\n",
    "                  epochs=24000,\n",
    "                  verbose=0)"
   ]
  },
  {
   "cell_type": "code",
   "execution_count": 161,
   "metadata": {},
   "outputs": [
    {
     "data": {
      "text/plain": [
       "7005.14676616457"
      ]
     },
     "execution_count": 161,
     "metadata": {},
     "output_type": "execute_result"
    }
   ],
   "source": [
    "preds_2 = model_square_2.predict(square_test_X)\n",
    "mean_squared_error(square_test_Y, preds_2)"
   ]
  },
  {
   "cell_type": "code",
   "execution_count": 162,
   "metadata": {},
   "outputs": [
    {
     "data": {
      "text/plain": [
       "[<matplotlib.lines.Line2D at 0x7f854070b190>]"
      ]
     },
     "execution_count": 162,
     "metadata": {},
     "output_type": "execute_result"
    },
    {
     "data": {
      "image/png": "[encoded data removed]",
      "text/plain": [
       "<Figure size 432x288 with 1 Axes>"
      ]
     },
     "metadata": {
      "needs_background": "light"
     },
     "output_type": "display_data"
    }
   ],
   "source": [
    "plt.plot(square_test_X, preds_2, 'o', color='black')"
   ]
  },
  {
   "cell_type": "code",
   "execution_count": 101,
   "metadata": {},
   "outputs": [
    {
     "data": {
      "text/plain": [
       "[<matplotlib.lines.Line2D at 0x7f857059fee0>]"
      ]
     },
     "execution_count": 101,
     "metadata": {},
     "output_type": "execute_result"
    },
    {
     "data": {
      "image/png": "[encoded data removed]",
      "text/plain": [
       "<Figure size 432x288 with 1 Axes>"
      ]
     },
     "metadata": {
      "needs_background": "light"
     },
     "output_type": "display_data"
    }
   ],
   "source": [
    "plt.plot(square_test_X, square_test_Y, 'o', color='black')"
   ]
  },
  {
   "cell_type": "code",
   "execution_count": 3,
   "metadata": {},
   "outputs": [
    {
     "data": {
      "text/plain": [
       "array([[-0.47114668,  0.04837778,  0.22338846],\n",
       "       [ 0.19092388,  0.25621008, -0.48129236]])"
      ]
     },
     "execution_count": 3,
     "metadata": {},
     "output_type": "execute_result"
    }
   ],
   "source": [
    "np.random.uniform(-0.5, 0.5, (2, 3))"
   ]
  },
  {
   "cell_type": "markdown",
   "metadata": {},
   "source": [
    "### 3. two hidden layers: 5, 5 neurons"
   ]
  },
  {
   "cell_type": "code",
   "execution_count": 224,
   "metadata": {},
   "outputs": [
    {
     "data": {
      "text/plain": [
       "<tensorflow.python.keras.callbacks.History at 0x7f8527cff220>"
      ]
     },
     "execution_count": 224,
     "metadata": {},
     "output_type": "execute_result"
    }
   ],
   "source": [
    "model_square_3 = Sequential(name=\"square_5_5\")\n",
    "model_square_3.add(Input(shape=(1,), name='Input-Layer'))\n",
    "model_square_3.add(Dense(5, activation='relu', kernel_initializer='he_uniform', name='Hidden-Layer'))\n",
    "model_square_3.add(Dense(5, activation='relu', kernel_initializer='he_uniform', name='Hidden-Layer2'))\n",
    "model_square_3.add(Dense(1))\n",
    "model_square_3.compile(loss='mse', optimizer='RMSprop', metrics=['MeanSquaredError'])\n",
    "\n",
    "model_square_3.fit(square_test_X, square_test_Y,\n",
    "                  epochs=11000, \n",
    "                  verbose=0)"
   ]
  },
  {
   "cell_type": "code",
   "execution_count": 225,
   "metadata": {},
   "outputs": [
    {
     "data": {
      "text/plain": [
       "10.770419869212391"
      ]
     },
     "execution_count": 225,
     "metadata": {},
     "output_type": "execute_result"
    }
   ],
   "source": [
    "preds_3 = model_square_3.predict(square_test_X)\n",
    "mean_squared_error(square_test_Y, preds_3)"
   ]
  },
  {
   "cell_type": "code",
   "execution_count": 226,
   "metadata": {},
   "outputs": [
    {
     "data": {
      "text/plain": [
       "[<matplotlib.lines.Line2D at 0x7f8526b04310>]"
      ]
     },
     "execution_count": 226,
     "metadata": {},
     "output_type": "execute_result"
    },
    {
     "data": {
      "image/png": "[encoded data removed]",
      "text/plain": [
       "<Figure size 432x288 with 1 Axes>"
      ]
     },
     "metadata": {
      "needs_background": "light"
     },
     "output_type": "display_data"
    }
   ],
   "source": [
    "plt.plot(square_test_X, preds_3, 'o', color='black')"
   ]
  },
  {
   "cell_type": "code",
   "execution_count": null,
   "metadata": {},
   "outputs": [],
   "source": []
  },
  {
   "cell_type": "code",
   "execution_count": null,
   "metadata": {},
   "outputs": [],
   "source": []
  },
  {
   "cell_type": "code",
   "execution_count": 195,
   "metadata": {},
   "outputs": [
    {
     "name": "stdout",
     "output_type": "stream",
     "text": [
      "-50 50 0.0 2500.0\n",
      "0.0 1.0 0.0 1.0\n",
      "MSE: 2424.849\n"
     ]
    },
    {
     "data": {
      "image/png": "[encoded data removed]",
      "text/plain": [
       "<Figure size 432x288 with 1 Axes>"
      ]
     },
     "metadata": {
      "needs_background": "light"
     },
     "output_type": "display_data"
    }
   ],
   "source": [
    "from sklearn.preprocessing import MinMaxScaler\n",
    "from sklearn.metrics import mean_squared_error\n",
    "from keras.models import Sequential\n",
    "from keras.layers import Dense\n",
    "from numpy import asarray\n",
    "from matplotlib import pyplot\n",
    "# define the dataset\n",
    "x = asarray([i for i in range(-50,51)])\n",
    "y = asarray([i**2.0 for i in x])\n",
    "print(x.min(), x.max(), y.min(), y.max())\n",
    "# reshape arrays into into rows and cols\n",
    "x = x.reshape((len(x), 1))\n",
    "y = y.reshape((len(y), 1))\n",
    "# separately scale the input and output variables\n",
    "scale_x = MinMaxScaler()\n",
    "x = scale_x.fit_transform(x)\n",
    "scale_y = MinMaxScaler()\n",
    "y = scale_y.fit_transform(y)\n",
    "print(x.min(), x.max(), y.min(), y.max())\n",
    "# design the neural network model\n",
    "model = Sequential()\n",
    "model.add(Dense(10, input_dim=1, activation='relu', kernel_initializer='he_uniform'))\n",
    "model.add(Dense(10, activation='relu', kernel_initializer='he_uniform'))\n",
    "model.add(Dense(1))\n",
    "# define the loss function and optimization algorithm\n",
    "model.compile(loss='mse', optimizer='adam')\n",
    "# ft the model on the training dataset\n",
    "model.fit(x, y, epochs=500, batch_size=10, verbose=0)\n",
    "# make predictions for the input data\n",
    "yhat = model.predict(x)\n",
    "# inverse transforms\n",
    "x_plot = scale_x.inverse_transform(x)\n",
    "y_plot = scale_y.inverse_transform(y)\n",
    "yhat_plot = scale_y.inverse_transform(yhat)\n",
    "# report model error\n",
    "print('MSE: %.3f' % mean_squared_error(y_plot, yhat_plot))\n",
    "# plot x vs y\n",
    "pyplot.scatter(x_plot,y_plot, label='Actual')\n",
    "# plot x vs yhat\n",
    "pyplot.scatter(x_plot,yhat_plot, label='Predicted')\n",
    "pyplot.title('Input (x) versus Output (y)')\n",
    "pyplot.xlabel('Input Variable (x)')\n",
    "pyplot.ylabel('Output Variable (y)')\n",
    "pyplot.legend()\n",
    "pyplot.show()"
   ]
  }
 ],
 "metadata": {
  "kernelspec": {
   "display_name": "Python 3",
   "language": "python",
   "name": "python3"
  },
  "language_info": {
   "codemirror_mode": {
    "name": "ipython",
    "version": 3
   },
   "file_extension": ".py",
   "mimetype": "text/x-python",
   "name": "python",
   "nbconvert_exporter": "python",
   "pygments_lexer": "ipython3",
   "version": "3.8.10"
  }
 },
 "nbformat": 4,
 "nbformat_minor": 4
}
